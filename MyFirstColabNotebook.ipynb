{
  "nbformat": 4,
  "nbformat_minor": 0,
  "metadata": {
    "colab": {
      "name": "MyFirstColabNotebook.ipynb",
      "provenance": [],
      "collapsed_sections": [],
      "private_outputs": true,
      "authorship_tag": "ABX9TyPWC1z7BwDXcZ+AYnB0Z3KM",
      "include_colab_link": true
    },
    "kernelspec": {
      "name": "python3",
      "display_name": "Python 3"
    },
    "language_info": {
      "name": "python"
    },
    "gpuClass": "standard"
  },
  "cells": [
    {
      "cell_type": "markdown",
      "metadata": {
        "id": "view-in-github",
        "colab_type": "text"
      },
      "source": [
        "<a href=\"https://colab.research.google.com/github/Lopa07/Google-Colab/blob/main/MyFirstColabNotebook.ipynb\" target=\"_parent\"><img src=\"https://colab.research.google.com/assets/colab-badge.svg\" alt=\"Open In Colab\"/></a>"
      ]
    },
    {
      "cell_type": "code",
      "source": [
        "import time\n",
        "print(time.time())\n",
        "print(time.ctime())"
      ],
      "metadata": {
        "id": "V5t4mA4NhTUi"
      },
      "execution_count": null,
      "outputs": []
    },
    {
      "cell_type": "code",
      "source": [
        "time.sleep(5)\n",
        "print(time.ctime())"
      ],
      "metadata": {
        "id": "qYg6uR0gnx51"
      },
      "execution_count": null,
      "outputs": []
    },
    {
      "cell_type": "markdown",
      "source": [
        "[Reference] [Google Colab - Documenting Your Code](https://www.tutorialspoint.com/google_colab/google_colab_documenting_code.htm)\n",
        "\n",
        "Constraints are \n",
        "* $3x_1 + 6x_2 + x_3 \\le 28$\n",
        "* $7x_1 + 3x_2 + 2x_3 \\le 37$\n",
        "* $4x_1 + 5x_2 + 2x_3 \\le 19$\n",
        "* $x_1, x_2, x_3 \\ge 0$\n",
        "\n",
        "The trial vector is calculated as follows:\n",
        "* $u_i(t) = x_i(t) + \\beta(\\hat{x}(t) - x_i(t)) + \\beta \\sum_{k=1}^{n_\\nu} (x_{i_1,k}(t) - x_{i_2,k}(t))$\n",
        "\n",
        "$f(x_1,x_2) = 20 + e - 20 \\exp{(-0.2 \\sqrt{\\frac{1}{n} (x^2_1 + x^2_2)})} - \\exp{(\\frac{1}{n}(\\cos(2\\pi x_1) + \\cos(2\\pi x_2)))} \\quad x\\in [-5,5]$\n",
        "\n",
        "$\n",
        "A_{m,n} = \n",
        "\\begin{pmatrix}\n",
        "  a_{1,1} & a_{1,2} & \\cdots & a_{1,n} \\\\\n",
        "  a_{2,1} & a_{2,2} & \\cdots & a_{2,n} \\\\\n",
        "  \\vdots & \\vdots & \\ddots & \\vdots \\\\\n",
        "  a_{n,1} & a_{n,2} & \\cdots & a_{n,n} \\\\\n",
        "\\end{pmatrix}\n",
        "$\n",
        "\n",
        "This is **bold**.\n",
        "This is *italic*.\n",
        "This is ~strikethrough~.\n",
        "\n",
        "$\\sqrt{3x-1} + (1+x)^2$\n",
        "\n",
        "$e^x = \\sum_{i=0}^{\\infty} \\frac{1}{i!} x^i$"
      ],
      "metadata": {
        "id": "OYogsTAWr5Lz"
      }
    },
    {
      "cell_type": "code",
      "source": [
        "message = 'A Great Tutorial on Colab by Tutorialspoint!'\n",
        "greeting = !echo -e '$message\\n$message'\n",
        "greeting"
      ],
      "metadata": {
        "id": "XgxM2vL3x6QT"
      },
      "execution_count": null,
      "outputs": []
    },
    {
      "cell_type": "code",
      "source": [
        "!wget https://archive.ics.uci.edu/ml/machine-learning-databases/adult/adult.data -P \"/content/drive/My Drive/app\"\n",
        "\n",
        "import pandas as pd\n",
        "data = pd.read_csv(\"/content/drive/My Drive/app/adult.data\")\n",
        "data.head(5)"
      ],
      "metadata": {
        "id": "yuybTCve7rW0"
      },
      "execution_count": null,
      "outputs": []
    },
    {
      "cell_type": "code",
      "source": [
        "!git clone https://github.com/wxs/keras-mnist-tutorial.git"
      ],
      "metadata": {
        "id": "8Sq6GG487w8h"
      },
      "execution_count": null,
      "outputs": []
    },
    {
      "cell_type": "code",
      "source": [
        "!ls /bin"
      ],
      "metadata": {
        "id": "XsYiFP6v-Ai7"
      },
      "execution_count": null,
      "outputs": []
    },
    {
      "cell_type": "code",
      "source": [
        "# Run this cell to mount your Google Drive.\n",
        "from google.colab import drive\n",
        "drive.mount('/content/drive')"
      ],
      "metadata": {
        "id": "Y8S27VCM_D_D"
      },
      "execution_count": null,
      "outputs": []
    },
    {
      "cell_type": "code",
      "source": [
        "!ls \"/content/drive/MyDrive/Colab Notebooks\""
      ],
      "metadata": {
        "id": "yXnWisDNAMTQ"
      },
      "execution_count": null,
      "outputs": []
    },
    {
      "cell_type": "code",
      "source": [
        "!python3 \"drive/MyDrive/Colab Notebooks/hello.py\""
      ],
      "metadata": {
        "id": "39STp3yOCcy7"
      },
      "execution_count": null,
      "outputs": []
    },
    {
      "cell_type": "code",
      "source": [
        "import numpy as np\n",
        "from matplotlib import pyplot as plt\n",
        "\n",
        "y = np.random.randn(100)\n",
        "x = [x for x in range(len(y))]\n",
        "\n",
        "plt.plot(x, y, '-')\n",
        "plt.fill_between(x, y, 5, where=(y > 1), facecolor='g', alpha=0.6)\n",
        "\n",
        "plt.title('Sample Plot')\n",
        "plt.show()"
      ],
      "metadata": {
        "id": "JtEqvVuvCvaK"
      },
      "execution_count": null,
      "outputs": []
    }
  ]
}